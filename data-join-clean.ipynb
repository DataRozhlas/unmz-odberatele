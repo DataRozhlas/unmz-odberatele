{
 "cells": [
  {
   "cell_type": "code",
   "execution_count": 26,
   "metadata": {
    "collapsed": true
   },
   "outputs": [],
   "source": [
    "import pandas as pd\n",
    "import numpy as np\n",
    "import matplotlib.pyplot as plt\n",
    "%matplotlib inline\n",
    "import os\n",
    "import difflib"
   ]
  },
  {
   "cell_type": "code",
   "execution_count": 27,
   "metadata": {
    "collapsed": false
   },
   "outputs": [],
   "source": [
    "#spojení dat\n",
    "data = pd.DataFrame()\n",
    "\n",
    "for file in os.listdir('data/unmz-export/'):\n",
    "    if (file.endswith('.xlsx')):\n",
    "        temp = pd.read_excel('data/unmz-export/' + file, skiprows=range(0,2))\n",
    "        data = data.append(temp)"
   ]
  },
  {
   "cell_type": "code",
   "execution_count": 28,
   "metadata": {
    "collapsed": false
   },
   "outputs": [],
   "source": [
    "#základní vyčištění\n",
    "data.columns = ['var_sym', 'subjekt', 'produkt', 'cena']\n",
    "data.dropna(subset=['cena'], inplace=True)\n",
    "data.subjekt = data.subjekt.astype('str')"
   ]
  },
  {
   "cell_type": "code",
   "execution_count": 29,
   "metadata": {
    "collapsed": false
   },
   "outputs": [],
   "source": [
    "#pojmenování nepojmenovaných\n",
    "def namer(name):\n",
    "    if (str(name) == 'nan'):\n",
    "        return 'fyzická osoba'\n",
    "    else:\n",
    "        return name\n",
    "\n",
    "data.subjekt = data.subjekt.apply(lambda x: namer(x))"
   ]
  },
  {
   "cell_type": "code",
   "execution_count": 39,
   "metadata": {
    "collapsed": false
   },
   "outputs": [],
   "source": [
    "data.groupby('subjekt').sum().sort('cena', ascending=False).to_csv('data/unikaty.csv', encoding='utf-8')"
   ]
  }
 ],
 "metadata": {
  "kernelspec": {
   "display_name": "Python 3",
   "language": "python",
   "name": "python3"
  },
  "language_info": {
   "codemirror_mode": {
    "name": "ipython",
    "version": 3
   },
   "file_extension": ".py",
   "mimetype": "text/x-python",
   "name": "python",
   "nbconvert_exporter": "python",
   "pygments_lexer": "ipython3",
   "version": "3.4.3"
  }
 },
 "nbformat": 4,
 "nbformat_minor": 0
}
